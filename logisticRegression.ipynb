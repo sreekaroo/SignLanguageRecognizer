{
 "cells": [
  {
   "cell_type": "code",
   "execution_count": 2,
   "metadata": {},
   "outputs": [],
   "source": [
    "import itertools\n",
    "import random\n",
    "import string\n",
    "from collections import Counter\n",
    "\n",
    "import pandas as pd\n",
    "import numpy as np\n",
    "import seaborn as sns\n",
    "from matplotlib import pyplot as plt\n",
    "import random as rnd\n",
    "import string\n",
    "from pandas import DataFrame\n",
    "from math import log2\n",
    "\n",
    "from sklearn.linear_model import LogisticRegression\n",
    "from sklearn.model_selection import train_test_split, KFold, cross_val_score, GridSearchCV\n",
    "from sklearn.naive_bayes import MultinomialNB\n",
    "\n",
    "import utils\n",
    "from utils import normalizePixels, dataframe_to_array, row_to_img_grid, crop_pixel_row, apply_crop, do_nb, random_crop, \\\n",
    "    apply_random_image_crop\n"
   ]
  },
  {
   "cell_type": "markdown",
   "metadata": {},
   "source": [
    "## Logisitc Regresssion\n"
   ]
  },
  {
   "cell_type": "code",
   "execution_count": 3,
   "metadata": {},
   "outputs": [
    {
     "name": "stdout",
     "output_type": "stream",
     "text": [
      "Train data shape: (27455, 785), Test data shape: (7172, 785)\n"
     ]
    }
   ],
   "source": [
    "# reading in data\n",
    "\n",
    "test_df = pd.read_csv('kaggleDataset/sign_mnist_test.csv')\n",
    "train_df = pd.read_csv('kaggleDataset/sign_mnist_train.csv')\n",
    "\n",
    "CLASS_COL = 'label'\n",
    "\n",
    "print(f\"Train data shape: {train_df.shape}, Test data shape: {test_df.shape}\")\n"
   ]
  },
  {
   "cell_type": "code",
   "execution_count": 4,
   "metadata": {
    "pycharm": {
     "is_executing": true
    }
   },
   "outputs": [],
   "source": [
    "# normalizing the pixel values since computation was taking a while\n",
    "\n",
    "X_train, y_train = normalizePixels(train_df.iloc[:, 1:]), train_df.label\n",
    "X_test, y_test = normalizePixels(test_df.iloc[:, 1:]), test_df.label\n",
    "\n",
    "X_train, y_train = np.array(X_train), np.array(y_train)\n",
    "# X_train, X_valid, y_train, y_valid = train_test_split(X_train, y_train, test_size=0.5, stratify=y_train, shuffle=True) # creating validation set\n",
    "\n",
    "X_test, y_test = np.array(X_test), np.array(y_test)\n",
    "\n",
    "# features, labels = dataframe_to_array(train_df)\n",
    "# X_train, y_train = features,labels\n",
    "# X_test, y_test = dataframe_to_array(test_df)"
   ]
  },
  {
   "cell_type": "markdown",
   "metadata": {},
   "source": [
    "### Initial Results:\n",
    "\n",
    "Simply training and evaluating LogisticRegression model on test data results in accuracy of :"
   ]
  },
  {
   "cell_type": "code",
   "execution_count": 8,
   "metadata": {},
   "outputs": [
    {
     "name": "stdout",
     "output_type": "stream",
     "text": [
      "Initial Accuracy for logistic regression 0.6887\n"
     ]
    }
   ],
   "source": [
    "# fitting a basic logReg model\n",
    "MAX_ITER = 1200\n",
    "clf = LogisticRegression(max_iter=MAX_ITER)\n",
    "clf.fit(X_train, y_train)\n",
    "\n",
    "score = round(clf.score(X_test, y_test), 4)\n",
    "print(f\"Initial Accuracy for logistic regression {score}\")  # initial accuracy"
   ]
  },
  {
   "cell_type": "code",
   "execution_count": 5,
   "metadata": {
    "pycharm": {
     "is_executing": true
    }
   },
   "outputs": [
    {
     "name": "stdout",
     "output_type": "stream",
     "text": [
      "Best hyperparameters:  {'C': 1}\n"
     ]
    }
   ],
   "source": [
    "# hyper parameter tuning using grid search\n",
    "\n",
    "from sklearn.model_selection import PredefinedSplit, StratifiedKFold, StratifiedShuffleSplit\n",
    "\n",
    "MAX_ITER = 1200\n",
    "\n",
    "param_grid = {\n",
    "    'C': [0.01, .1, 1, 100, 1000],\n",
    "}\n",
    "\n",
    "def k_folder(x_train, k):\n",
    "    \"\"\" returns list of folds. each fold is a 2 length tuple of indices: (train_indices, test_indices) \"\"\"\n",
    "    n_folds = []\n",
    "    for i in range(k):\n",
    "        # splitting int o train and validation\n",
    "        split_x = np.array([j for j in range(len(x_train)) if j % k != i])\n",
    "        validation_split_x = np.array([j for j in range(len(x_train)) if j % k == i])\n",
    "\n",
    "        np.random.shuffle(split_x)\n",
    "        np.random.shuffle(validation_split_x)\n",
    "        n_folds.append((split_x, validation_split_x))\n",
    "\n",
    "    return n_folds\n",
    "\n",
    "\n",
    "best_solver = 'newton-cg'   # fastest training time\n",
    "model = LogisticRegression(max_iter=MAX_ITER)\n",
    "\n",
    "cv = k_folder(X_train, 3)\n",
    "# for train_idx, valid_idx in cv:\n",
    "#     xtrain = X_train[train_idx]\n",
    "#     ytrain = y_train[train_idx]\n",
    "#     xTest = X_train[valid_idx]\n",
    "#     yTest = y_train[valid_idx]\n",
    "\n",
    "#     model.fit(xtrain, ytrain)\n",
    "#     s = model.score(xTest, yTest)\n",
    "#     print(s)\n",
    "\n",
    "clf = GridSearchCV(model, param_grid, cv=cv, n_jobs=-1)\n",
    "clf.fit(X_train, y_train)\n",
    "\n",
    "\n",
    "best_model = clf.best_estimator_\n",
    "\n",
    "print(\"Best hyperparameters: \", clf.best_params_)\n"
   ]
  },
  {
   "cell_type": "code",
   "execution_count": 6,
   "metadata": {},
   "outputs": [
    {
     "name": "stdout",
     "output_type": "stream",
     "text": [
      "Test accuracy for best model:  0.692414947016174\n"
     ]
    }
   ],
   "source": [
    "# running on test set with best hyper parameters\n",
    "\n",
    "test_score = best_model.score(X_test, y_test)\n",
    "print(\"Test accuracy for best model: \", test_score)"
   ]
  },
  {
   "cell_type": "code",
   "execution_count": 7,
   "metadata": {},
   "outputs": [
    {
     "data": {
      "text/plain": [
       "{'mean_fit_time': array([58.23618007, 74.75943764, 90.44462029, 90.1399068 , 64.65269478]),\n",
       " 'std_fit_time': array([0.32993757, 1.21375438, 4.97538202, 1.81199695, 3.71643249]),\n",
       " 'mean_score_time': array([0.05882827, 0.05516148, 0.05307007, 0.03183087, 0.03250742]),\n",
       " 'std_score_time': array([0.0063331 , 0.00798658, 0.01449688, 0.00077489, 0.00072424]),\n",
       " 'param_C': masked_array(data=[0.01, 0.1, 1, 100, 1000],\n",
       "              mask=[False, False, False, False, False],\n",
       "        fill_value='?',\n",
       "             dtype=object),\n",
       " 'params': [{'C': 0.01}, {'C': 0.1}, {'C': 1}, {'C': 100}, {'C': 1000}],\n",
       " 'split0_test_score': array([0.99814248, 0.99978147, 0.99989073, 0.99989073, 0.99989073]),\n",
       " 'split1_test_score': array([0.99573864, 0.99978147, 1.        , 1.        , 1.        ]),\n",
       " 'split2_test_score': array([0.99879795, 0.99989072, 1.        , 1.        , 1.        ]),\n",
       " 'mean_test_score': array([0.99755969, 0.99981789, 0.99996358, 0.99996358, 0.99996358]),\n",
       " 'std_test_score': array([1.31518824e-03, 5.15027324e-05, 5.15083611e-05, 5.15083611e-05,\n",
       "        5.15083611e-05]),\n",
       " 'rank_test_score': array([5, 4, 1, 1, 1], dtype=int32)}"
      ]
     },
     "metadata": {},
     "output_type": "display_data"
    }
   ],
   "source": [
    "display(clf.cv_results_)"
   ]
  },
  {
   "cell_type": "markdown",
   "metadata": {},
   "source": [
    "### Data augmenting\n",
    "\n",
    "We will data augment similar to naive bayes\n",
    "\n",
    "We will attempt to crop the pixel vector uniformly. Meaning, reducing a layer of pixels around the image one by one and visualizing the resulting accuracies. We will crop the entire dataset in this manner and visualize the resulting accuracies without resizing, while implementing k fold cross validation to compare different magnitudes of size reductions. The intuition here is to eliminate background pixels that may affect probabilities.\n"
   ]
  },
  {
   "cell_type": "code",
   "execution_count": 19,
   "metadata": {},
   "outputs": [
    {
     "name": "stdout",
     "output_type": "stream",
     "text": [
      "Score 1.0 for crop 0\n",
      "Score 0.9999 for crop 1\n",
      "Score 0.9998 for crop 2\n",
      "Score 0.9998 for crop 3\n",
      "Score 0.9992 for crop 4\n"
     ]
    }
   ],
   "source": [
    "# cross validation to determine best crop size\n",
    "\n",
    "cropSizes = list(range(5))\n",
    "scores = []\n",
    "# filtered_x = apply_crop(X_train, crop_size=3)\n",
    "# filtered_x_test = apply_crop(X_test, crop_size=3)\n",
    "\n",
    "# clf = LogisticRegression(max_iter=MAX_ITER)\n",
    "# clf.fit(filtered_x, y_train)\n",
    "\n",
    "# score = round(clf.score(filtered_x_test, y_test), 4)\n",
    "# print(f\"Initial Accuracy for logistic regression {score}\")  # initial accuracy\n",
    "\n",
    "k = 5\n",
    "for cropSize in cropSizes:\n",
    "    filtered_x = apply_crop(X_train, crop_size=cropSize)  # cropping training data\n",
    "    model = LogisticRegression(max_iter=MAX_ITER)\n",
    "\n",
    "    # training data on model with cropped data using k fold cross validation\n",
    "    k_scores = cross_val_score(model, filtered_x, y_train, cv=5)\n",
    "    mean_score = k_scores.mean()\n",
    "    score = round(mean_score, 4)\n",
    "    scores.append(score)\n",
    "    print(f\"Score {score} for crop {cropSize}\")\n",
    "\n",
    "bestCropSize = cropSizes[np.argmax(scores)]\n"
   ]
  },
  {
   "cell_type": "code",
   "execution_count": 22,
   "metadata": {},
   "outputs": [
    {
     "name": "stdout",
     "output_type": "stream",
     "text": [
      "Best crop size: 0, Best Validation accuracy 1.0\n"
     ]
    },
    {
     "data": {
      "text/plain": [
       "<matplotlib.collections.PathCollection at 0x7fdd89e483d0>"
      ]
     },
     "execution_count": 22,
     "metadata": {},
     "output_type": "execute_result"
    },
    {
     "data": {
      "image/png": "[encoded data removed]",
      "text/plain": [
       "<Figure size 640x480 with 1 Axes>"
      ]
     },
     "metadata": {},
     "output_type": "display_data"
    }
   ],
   "source": [
    "print(f\"Best crop size: {bestCropSize}, Best Validation accuracy {round(max(scores), 3)}\")\n",
    "plt.title(\"Model Accuracies with reducing layers of pixels\")\n",
    "plt.xlabel('# of Layers Removed')\n",
    "plt.ylabel(\"Accuracy\")\n",
    "plt.scatter(cropSizes, scores)"
   ]
  },
  {
   "cell_type": "code",
   "execution_count": 23,
   "metadata": {},
   "outputs": [
    {
     "name": "stdout",
     "output_type": "stream",
     "text": [
      "Best test accuracy: 0.6924\n"
     ]
    }
   ],
   "source": [
    "# applying best crop size to test set\n",
    "\n",
    "# best cropsize is 0\n",
    "filtered_x_train = apply_crop(X_train, crop_size=bestCropSize)\n",
    "filtered_x_test = apply_crop(X_test, crop_size=bestCropSize)\n",
    "clf = LogisticRegression(max_iter=MAX_ITER)\n",
    "clf.fit(filtered_x_train, y_train)\n",
    "\n",
    "best_test_accuracy = round(clf.score(filtered_x_test, y_test), 4)\n",
    "\n",
    "print(f\"Best test accuracy: {best_test_accuracy}\")\n"
   ]
  },
  {
   "cell_type": "markdown",
   "metadata": {},
   "source": [
    "### Random Crop Image Augmentation\n",
    "\n",
    "We will attempt to randomly crop the images with a fixed crop size and then resize them back to original dimensions. Algorithm basically chooses a random point to begin crop from and generates a cropped image based on some crop_width and crop_height. This experiment will only do square crops. Will use k-fold cross validation to test different sizes. keep in mind original images are 28x28"
   ]
  },
  {
   "cell_type": "code",
   "execution_count": 10,
   "metadata": {},
   "outputs": [
    {
     "ename": "KeyboardInterrupt",
     "evalue": "",
     "output_type": "error",
     "traceback": [
      "\u001b[0;31m---------------------------------------------------------------------------\u001b[0m",
      "\u001b[0;31mKeyboardInterrupt\u001b[0m                         Traceback (most recent call last)",
      "Cell \u001b[0;32mIn[10], line 10\u001b[0m\n\u001b[1;32m      8\u001b[0m \u001b[39m# training data on model with cropped data using k fold cross validation\u001b[39;00m\n\u001b[1;32m      9\u001b[0m clf \u001b[39m=\u001b[39m LogisticRegression(max_iter\u001b[39m=\u001b[39mMAX_ITER, solver\u001b[39m=\u001b[39mbest_solver)\n\u001b[0;32m---> 10\u001b[0m k_scores \u001b[39m=\u001b[39m cross_val_score(clf, filtered_x, y_train, cv\u001b[39m=\u001b[39;49mcv,n_jobs\u001b[39m=\u001b[39;49m\u001b[39m-\u001b[39;49m\u001b[39m1\u001b[39;49m)\n\u001b[1;32m     11\u001b[0m mean_score \u001b[39m=\u001b[39m k_scores\u001b[39m.\u001b[39mmean()\n\u001b[1;32m     12\u001b[0m score \u001b[39m=\u001b[39m \u001b[39mround\u001b[39m(mean_score, \u001b[39m4\u001b[39m)\n",
      "File \u001b[0;32m/opt/anaconda3/envs/ml/lib/python3.10/site-packages/sklearn/model_selection/_validation.py:509\u001b[0m, in \u001b[0;36mcross_val_score\u001b[0;34m(estimator, X, y, groups, scoring, cv, n_jobs, verbose, fit_params, pre_dispatch, error_score)\u001b[0m\n\u001b[1;32m    506\u001b[0m \u001b[39m# To ensure multimetric format is not supported\u001b[39;00m\n\u001b[1;32m    507\u001b[0m scorer \u001b[39m=\u001b[39m check_scoring(estimator, scoring\u001b[39m=\u001b[39mscoring)\n\u001b[0;32m--> 509\u001b[0m cv_results \u001b[39m=\u001b[39m cross_validate(\n\u001b[1;32m    510\u001b[0m     estimator\u001b[39m=\u001b[39;49mestimator,\n\u001b[1;32m    511\u001b[0m     X\u001b[39m=\u001b[39;49mX,\n\u001b[1;32m    512\u001b[0m     y\u001b[39m=\u001b[39;49my,\n\u001b[1;32m    513\u001b[0m     groups\u001b[39m=\u001b[39;49mgroups,\n\u001b[1;32m    514\u001b[0m     scoring\u001b[39m=\u001b[39;49m{\u001b[39m\"\u001b[39;49m\u001b[39mscore\u001b[39;49m\u001b[39m\"\u001b[39;49m: scorer},\n\u001b[1;32m    515\u001b[0m     cv\u001b[39m=\u001b[39;49mcv,\n\u001b[1;32m    516\u001b[0m     n_jobs\u001b[39m=\u001b[39;49mn_jobs,\n\u001b[1;32m    517\u001b[0m     verbose\u001b[39m=\u001b[39;49mverbose,\n\u001b[1;32m    518\u001b[0m     fit_params\u001b[39m=\u001b[39;49mfit_params,\n\u001b[1;32m    519\u001b[0m     pre_dispatch\u001b[39m=\u001b[39;49mpre_dispatch,\n\u001b[1;32m    520\u001b[0m     error_score\u001b[39m=\u001b[39;49merror_score,\n\u001b[1;32m    521\u001b[0m )\n\u001b[1;32m    522\u001b[0m \u001b[39mreturn\u001b[39;00m cv_results[\u001b[39m\"\u001b[39m\u001b[39mtest_score\u001b[39m\u001b[39m\"\u001b[39m]\n",
      "File \u001b[0;32m/opt/anaconda3/envs/ml/lib/python3.10/site-packages/sklearn/model_selection/_validation.py:267\u001b[0m, in \u001b[0;36mcross_validate\u001b[0;34m(estimator, X, y, groups, scoring, cv, n_jobs, verbose, fit_params, pre_dispatch, return_train_score, return_estimator, error_score)\u001b[0m\n\u001b[1;32m    264\u001b[0m \u001b[39m# We clone the estimator to make sure that all the folds are\u001b[39;00m\n\u001b[1;32m    265\u001b[0m \u001b[39m# independent, and that it is pickle-able.\u001b[39;00m\n\u001b[1;32m    266\u001b[0m parallel \u001b[39m=\u001b[39m Parallel(n_jobs\u001b[39m=\u001b[39mn_jobs, verbose\u001b[39m=\u001b[39mverbose, pre_dispatch\u001b[39m=\u001b[39mpre_dispatch)\n\u001b[0;32m--> 267\u001b[0m results \u001b[39m=\u001b[39m parallel(\n\u001b[1;32m    268\u001b[0m     delayed(_fit_and_score)(\n\u001b[1;32m    269\u001b[0m         clone(estimator),\n\u001b[1;32m    270\u001b[0m         X,\n\u001b[1;32m    271\u001b[0m         y,\n\u001b[1;32m    272\u001b[0m         scorers,\n\u001b[1;32m    273\u001b[0m         train,\n\u001b[1;32m    274\u001b[0m         test,\n\u001b[1;32m    275\u001b[0m         verbose,\n\u001b[1;32m    276\u001b[0m         \u001b[39mNone\u001b[39;49;00m,\n\u001b[1;32m    277\u001b[0m         fit_params,\n\u001b[1;32m    278\u001b[0m         return_train_score\u001b[39m=\u001b[39;49mreturn_train_score,\n\u001b[1;32m    279\u001b[0m         return_times\u001b[39m=\u001b[39;49m\u001b[39mTrue\u001b[39;49;00m,\n\u001b[1;32m    280\u001b[0m         return_estimator\u001b[39m=\u001b[39;49mreturn_estimator,\n\u001b[1;32m    281\u001b[0m         error_score\u001b[39m=\u001b[39;49merror_score,\n\u001b[1;32m    282\u001b[0m     )\n\u001b[1;32m    283\u001b[0m     \u001b[39mfor\u001b[39;49;00m train, test \u001b[39min\u001b[39;49;00m cv\u001b[39m.\u001b[39;49msplit(X, y, groups)\n\u001b[1;32m    284\u001b[0m )\n\u001b[1;32m    286\u001b[0m _warn_about_fit_failures(results, error_score)\n\u001b[1;32m    288\u001b[0m \u001b[39m# For callabe scoring, the return type is only know after calling. If the\u001b[39;00m\n\u001b[1;32m    289\u001b[0m \u001b[39m# return type is a dictionary, the error scores can now be inserted with\u001b[39;00m\n\u001b[1;32m    290\u001b[0m \u001b[39m# the correct key.\u001b[39;00m\n",
      "File \u001b[0;32m/opt/anaconda3/envs/ml/lib/python3.10/site-packages/joblib/parallel.py:1056\u001b[0m, in \u001b[0;36mParallel.__call__\u001b[0;34m(self, iterable)\u001b[0m\n\u001b[1;32m   1053\u001b[0m     \u001b[39mself\u001b[39m\u001b[39m.\u001b[39m_iterating \u001b[39m=\u001b[39m \u001b[39mFalse\u001b[39;00m\n\u001b[1;32m   1055\u001b[0m \u001b[39mwith\u001b[39;00m \u001b[39mself\u001b[39m\u001b[39m.\u001b[39m_backend\u001b[39m.\u001b[39mretrieval_context():\n\u001b[0;32m-> 1056\u001b[0m     \u001b[39mself\u001b[39;49m\u001b[39m.\u001b[39;49mretrieve()\n\u001b[1;32m   1057\u001b[0m \u001b[39m# Make sure that we get a last message telling us we are done\u001b[39;00m\n\u001b[1;32m   1058\u001b[0m elapsed_time \u001b[39m=\u001b[39m time\u001b[39m.\u001b[39mtime() \u001b[39m-\u001b[39m \u001b[39mself\u001b[39m\u001b[39m.\u001b[39m_start_time\n",
      "File \u001b[0;32m/opt/anaconda3/envs/ml/lib/python3.10/site-packages/joblib/parallel.py:935\u001b[0m, in \u001b[0;36mParallel.retrieve\u001b[0;34m(self)\u001b[0m\n\u001b[1;32m    933\u001b[0m \u001b[39mtry\u001b[39;00m:\n\u001b[1;32m    934\u001b[0m     \u001b[39mif\u001b[39;00m \u001b[39mgetattr\u001b[39m(\u001b[39mself\u001b[39m\u001b[39m.\u001b[39m_backend, \u001b[39m'\u001b[39m\u001b[39msupports_timeout\u001b[39m\u001b[39m'\u001b[39m, \u001b[39mFalse\u001b[39;00m):\n\u001b[0;32m--> 935\u001b[0m         \u001b[39mself\u001b[39m\u001b[39m.\u001b[39m_output\u001b[39m.\u001b[39mextend(job\u001b[39m.\u001b[39;49mget(timeout\u001b[39m=\u001b[39;49m\u001b[39mself\u001b[39;49m\u001b[39m.\u001b[39;49mtimeout))\n\u001b[1;32m    936\u001b[0m     \u001b[39melse\u001b[39;00m:\n\u001b[1;32m    937\u001b[0m         \u001b[39mself\u001b[39m\u001b[39m.\u001b[39m_output\u001b[39m.\u001b[39mextend(job\u001b[39m.\u001b[39mget())\n",
      "File \u001b[0;32m/opt/anaconda3/envs/ml/lib/python3.10/site-packages/joblib/_parallel_backends.py:542\u001b[0m, in \u001b[0;36mLokyBackend.wrap_future_result\u001b[0;34m(future, timeout)\u001b[0m\n\u001b[1;32m    539\u001b[0m \u001b[39m\"\"\"Wrapper for Future.result to implement the same behaviour as\u001b[39;00m\n\u001b[1;32m    540\u001b[0m \u001b[39mAsyncResults.get from multiprocessing.\"\"\"\u001b[39;00m\n\u001b[1;32m    541\u001b[0m \u001b[39mtry\u001b[39;00m:\n\u001b[0;32m--> 542\u001b[0m     \u001b[39mreturn\u001b[39;00m future\u001b[39m.\u001b[39;49mresult(timeout\u001b[39m=\u001b[39;49mtimeout)\n\u001b[1;32m    543\u001b[0m \u001b[39mexcept\u001b[39;00m CfTimeoutError \u001b[39mas\u001b[39;00m e:\n\u001b[1;32m    544\u001b[0m     \u001b[39mraise\u001b[39;00m \u001b[39mTimeoutError\u001b[39;00m \u001b[39mfrom\u001b[39;00m \u001b[39me\u001b[39;00m\n",
      "File \u001b[0;32m/opt/anaconda3/envs/ml/lib/python3.10/concurrent/futures/_base.py:453\u001b[0m, in \u001b[0;36mFuture.result\u001b[0;34m(self, timeout)\u001b[0m\n\u001b[1;32m    450\u001b[0m \u001b[39melif\u001b[39;00m \u001b[39mself\u001b[39m\u001b[39m.\u001b[39m_state \u001b[39m==\u001b[39m FINISHED:\n\u001b[1;32m    451\u001b[0m     \u001b[39mreturn\u001b[39;00m \u001b[39mself\u001b[39m\u001b[39m.\u001b[39m__get_result()\n\u001b[0;32m--> 453\u001b[0m \u001b[39mself\u001b[39;49m\u001b[39m.\u001b[39;49m_condition\u001b[39m.\u001b[39;49mwait(timeout)\n\u001b[1;32m    455\u001b[0m \u001b[39mif\u001b[39;00m \u001b[39mself\u001b[39m\u001b[39m.\u001b[39m_state \u001b[39min\u001b[39;00m [CANCELLED, CANCELLED_AND_NOTIFIED]:\n\u001b[1;32m    456\u001b[0m     \u001b[39mraise\u001b[39;00m CancelledError()\n",
      "File \u001b[0;32m/opt/anaconda3/envs/ml/lib/python3.10/threading.py:320\u001b[0m, in \u001b[0;36mCondition.wait\u001b[0;34m(self, timeout)\u001b[0m\n\u001b[1;32m    318\u001b[0m \u001b[39mtry\u001b[39;00m:    \u001b[39m# restore state no matter what (e.g., KeyboardInterrupt)\u001b[39;00m\n\u001b[1;32m    319\u001b[0m     \u001b[39mif\u001b[39;00m timeout \u001b[39mis\u001b[39;00m \u001b[39mNone\u001b[39;00m:\n\u001b[0;32m--> 320\u001b[0m         waiter\u001b[39m.\u001b[39;49macquire()\n\u001b[1;32m    321\u001b[0m         gotit \u001b[39m=\u001b[39m \u001b[39mTrue\u001b[39;00m\n\u001b[1;32m    322\u001b[0m     \u001b[39melse\u001b[39;00m:\n",
      "\u001b[0;31mKeyboardInterrupt\u001b[0m: "
     ]
    }
   ],
   "source": [
    "cropSizes = list(range(18, 28, 2))\n",
    "scores = []\n",
    "\n",
    "for cropSize in cropSizes:\n",
    "    filtered_x = apply_random_image_crop(X_train, cropSize, cropSize)\n",
    "\n",
    "    # training data on model with cropped data using k fold cross validation\n",
    "    clf = LogisticRegression(max_iter=MAX_ITER, solver=best_solver)\n",
    "    k_scores = cross_val_score(clf, filtered_x, y_train, cv=cv,n_jobs=-1)\n",
    "    mean_score = k_scores.mean()\n",
    "    score = round(mean_score, 4)\n",
    "    scores.append(score)\n",
    "\n",
    "    print(f\"score for crop size {cropSize}, {score}\")\n",
    "\n",
    "bestCropSize = cropSizes[np.argmax(scores)]\n"
   ]
  },
  {
   "cell_type": "code",
   "execution_count": null,
   "metadata": {},
   "outputs": [],
   "source": [
    "print(f\"Best crop size: {bestCropSize}, Best Validation accuracy {round(max(scores), 3)}\")\n",
    "plt.title(\"Validation Accuracies with Random Crop Augmentation\")\n",
    "plt.xlabel('Crop Size')\n",
    "plt.ylabel(\"Accuracy\")\n",
    "plt.scatter(cropSizes, scores)"
   ]
  },
  {
   "cell_type": "code",
   "execution_count": null,
   "metadata": {},
   "outputs": [],
   "source": [
    "# random crop image for model\n",
    "\n",
    "cropped_train = apply_random_image_crop(X_train, bestCropSize, bestCropSize)\n",
    "best_random_crop_acc = do_nb(cropped_train, y_train, X_test, y_test)\n",
    "\n",
    "print(f\"Best random crop test accuracy : {round(best_random_crop_acc, 4)}\")"
   ]
  },
  {
   "cell_type": "code",
   "execution_count": null,
   "metadata": {},
   "outputs": [],
   "source": []
  }
 ],
 "metadata": {
  "kernelspec": {
   "display_name": "Python 3 (ipykernel)",
   "language": "python",
   "name": "python3"
  },
  "language_info": {
   "codemirror_mode": {
    "name": "ipython",
    "version": 3
   },
   "file_extension": ".py",
   "mimetype": "text/x-python",
   "name": "python",
   "nbconvert_exporter": "python",
   "pygments_lexer": "ipython3",
   "version": "3.10.8"
  }
 },
 "nbformat": 4,
 "nbformat_minor": 1
}
